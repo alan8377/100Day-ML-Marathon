{
 "cells": [
  {
   "cell_type": "markdown",
   "metadata": {},
   "source": [
    "# [作業目標]\n",
    "- 仿造範例的 One Hot Encoding, 將指定的資料進行編碼"
   ]
  },
  {
   "cell_type": "markdown",
   "metadata": {},
   "source": [
    "# [作業重點]\n",
    "- 將 sub_train 進行 One Hot Encoding 編碼 (In[4], Out[4])"
   ]
  },
  {
   "cell_type": "code",
   "execution_count": 19,
   "metadata": {
    "colab": {},
    "colab_type": "code",
    "collapsed": true,
    "id": "lh9gyloHVblR"
   },
   "outputs": [],
   "source": [
    "import os\n",
    "import numpy as np\n",
    "import pandas as pd"
   ]
  },
  {
   "cell_type": "code",
   "execution_count": 20,
   "metadata": {
    "colab": {},
    "colab_type": "code",
    "id": "z4iLB9cKVblV"
   },
   "outputs": [],
   "source": [
    "# 設定 data_path, 並讀取 app_train\n",
    "dir_data = './data/'\n",
    "f_app_train = os.path.join(dir_data, 'application_train.csv')\n",
    "app_train = pd.read_csv(f_app_train)"
   ]
  },
  {
   "cell_type": "markdown",
   "metadata": {
    "colab": {},
    "colab_type": "code",
    "collapsed": true,
    "id": "d5IeEcPVVblq"
   },
   "source": [
    "## 作業\n",
    "將下列部分資料片段 sub_train 使用 One Hot encoding, 並觀察轉換前後的欄位數量 (使用 shape) 與欄位名稱 (使用 head) 變化"
   ]
  },
  {
   "cell_type": "code",
   "execution_count": 68,
   "metadata": {},
   "outputs": [
    {
     "name": "stdout",
     "output_type": "stream",
     "text": [
      "(307511, 1)\n",
      "['WEDNESDAY' 'MONDAY' 'MONDAY' 'WEDNESDAY' 'THURSDAY' 'WEDNESDAY' 'SUNDAY'\n",
      " 'MONDAY' 'WEDNESDAY' 'THURSDAY' 'SATURDAY' 'FRIDAY' 'FRIDAY' 'THURSDAY'\n",
      " 'MONDAY' 'SATURDAY' 'THURSDAY' 'MONDAY' 'FRIDAY' 'MONDAY' 'FRIDAY'\n",
      " 'MONDAY' 'THURSDAY' 'FRIDAY' 'THURSDAY' 'SATURDAY' 'MONDAY' 'SATURDAY'\n",
      " 'WEDNESDAY' 'TUESDAY' 'WEDNESDAY' 'TUESDAY' 'SATURDAY' 'THURSDAY'\n",
      " 'FRIDAY' 'MONDAY' 'THURSDAY' 'FRIDAY' 'FRIDAY' 'TUESDAY' 'TUESDAY'\n",
      " 'MONDAY' 'THURSDAY' 'WEDNESDAY' 'WEDNESDAY' 'MONDAY' 'MONDAY' 'WEDNESDAY'\n",
      " 'THURSDAY' 'THURSDAY' 'THURSDAY' 'TUESDAY' 'TUESDAY' 'THURSDAY' 'TUESDAY'\n",
      " 'MONDAY' 'MONDAY' 'WEDNESDAY' 'MONDAY' 'TUESDAY' 'MONDAY' 'TUESDAY'\n",
      " 'THURSDAY' 'MONDAY' 'MONDAY' 'WEDNESDAY' 'TUESDAY' 'THURSDAY' 'SUNDAY'\n",
      " 'SATURDAY' 'MONDAY' 'MONDAY' 'FRIDAY' 'WEDNESDAY' 'THURSDAY' 'FRIDAY'\n",
      " 'THURSDAY' 'TUESDAY' 'TUESDAY' 'THURSDAY' 'THURSDAY' 'THURSDAY'\n",
      " 'THURSDAY' 'WEDNESDAY' 'THURSDAY' 'FRIDAY' 'WEDNESDAY' 'SUNDAY' 'FRIDAY'\n",
      " 'WEDNESDAY' 'TUESDAY' 'WEDNESDAY' 'WEDNESDAY' 'MONDAY' 'SUNDAY' 'MONDAY'\n",
      " 'MONDAY' 'SUNDAY' 'THURSDAY' 'TUESDAY']\n"
     ]
    }
   ],
   "source": [
    "sub_train = pd.DataFrame(app_train['WEEKDAY_APPR_PROCESS_START'])\n",
    "print(sub_train.shape)\n",
    "sub_train.head()\n",
    "print(sub_train.iloc[0:100,0].values)"
   ]
  },
  {
   "cell_type": "code",
   "execution_count": 81,
   "metadata": {},
   "outputs": [
    {
     "name": "stdout",
     "output_type": "stream",
     "text": [
      "(307511, 1)\n",
      "(307511,)\n",
      "<class 'numpy.ndarray'>\n",
      "[[0. 0. 0. ... 0. 0. 1.]\n",
      " [0. 1. 0. ... 0. 0. 0.]\n",
      " [0. 1. 0. ... 0. 0. 0.]\n",
      " ...\n",
      " [0. 0. 0. ... 1. 0. 0.]\n",
      " [0. 0. 0. ... 0. 0. 1.]\n",
      " [0. 0. 0. ... 1. 0. 0.]]\n"
     ]
    },
    {
     "name": "stderr",
     "output_type": "stream",
     "text": [
      "/Users/Alanhuang/anaconda3/lib/python3.6/site-packages/sklearn/preprocessing/label.py:125: DataConversionWarning: A column-vector y was passed when a 1d array was expected. Please change the shape of y to (n_samples, ), for example using ravel().\n",
      "  y = column_or_1d(y, warn=True)\n"
     ]
    }
   ],
   "source": [
    "\"\"\"\n",
    "Your Code Here\n",
    "\"\"\"\n",
    "\n",
    "x=sub_train\n",
    "print(x.shape)\n",
    "from sklearn.preprocessing import LabelEncoder, OneHotEncoder\n",
    "labelencoder = LabelEncoder()\n",
    "x = labelencoder.fit_transform(x)\n",
    "print(x.shape)\n",
    "print(type(x))\n",
    "x = pd.DataFrame(x)\n",
    "onehotencoder = OneHotEncoder(categorical_features = [0])\n",
    "x = onehotencoder.fit_transform(x).toarray()\n",
    "#X = pd.get_dummies(sub_train)\n",
    "print(x)"
   ]
  }
 ],
 "metadata": {
  "colab": {
   "name": "Day_004_column_data_type.ipynb",
   "provenance": [],
   "version": "0.3.2"
  },
  "kernelspec": {
   "display_name": "Python 3",
   "language": "python",
   "name": "python3"
  },
  "language_info": {
   "codemirror_mode": {
    "name": "ipython",
    "version": 3
   },
   "file_extension": ".py",
   "mimetype": "text/x-python",
   "name": "python",
   "nbconvert_exporter": "python",
   "pygments_lexer": "ipython3",
   "version": "3.6.3"
  }
 },
 "nbformat": 4,
 "nbformat_minor": 1
}
